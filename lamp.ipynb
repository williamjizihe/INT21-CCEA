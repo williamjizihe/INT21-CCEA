{
 "cells": [
  {
   "cell_type": "code",
   "execution_count": 2,
   "metadata": {},
   "outputs": [],
   "source": [
    "import random\n",
    "import numpy as np\n",
    "from time import time\n",
    "import inspyred\n",
    "import itertools"
   ]
  },
  {
   "cell_type": "code",
   "execution_count": 3,
   "metadata": {},
   "outputs": [],
   "source": [
    "def create_lamp_grid(grid_size, problem_size):\n",
    "    da = 1/ grid_size\n",
    "    r2 = 1 / problem_size / np.pi\n",
    "    r = np.sqrt(r2)\n",
    "    N = int(r * grid_size)\n",
    "    lamp_grid = np.zeros((2*N+1, 2*N+1))\n",
    "    for i in range(2*N+1):\n",
    "        for j in range(2*N+1):\n",
    "            x = (i-N) * da\n",
    "            y = (j-N) * da\n",
    "            if x**2 + y**2 <= r2:\n",
    "                lamp_grid[i,j] = 1\n",
    "    return lamp_grid"
   ]
  },
  {
   "cell_type": "code",
   "execution_count": 4,
   "metadata": {},
   "outputs": [],
   "source": [
    "# Function to calculate the enlightened and overlap area\n",
    "def calculate_areas(lamps, grid_size, problem_size, lamp_grid):\n",
    "    r2 = 1 / problem_size / np.pi\n",
    "    r = np.sqrt(r2)\n",
    "    rN = lamp_grid.shape[0]\n",
    "    extra = rN // 2\n",
    "    # Initialize the grid\n",
    "    tot_grid = np.zeros((grid_size + 2 * extra, grid_size + 2 * extra))\n",
    "    \n",
    "    # Illuminate the grid with each lamp\n",
    "    for x, y in lamps:\n",
    "        # Calculate the index of the lamp in the grid\n",
    "        x_min = max(0, int(x * grid_size)-1)\n",
    "        y_min = max(0, int(y * grid_size)-1)\n",
    "        tot_grid[x_min:x_min+rN, y_min:y_min+rN] += lamp_grid\n",
    "\n",
    "    # Remove the extra rows and columns\n",
    "    tot_grid = tot_grid[extra:-extra, extra:-extra]\n",
    "    # Count the enlightened and overlap area\n",
    "    enlightened_area = np.sum(tot_grid > 0) / grid_size**2\n",
    "    overlap_area = 1 / problem_size * len(lamps) - enlightened_area\n",
    "\n",
    "    return enlightened_area, overlap_area"
   ]
  },
  {
   "cell_type": "code",
   "execution_count": 5,
   "metadata": {},
   "outputs": [
    {
     "data": {
      "text/plain": [
       "(1955, 1955)"
      ]
     },
     "execution_count": 5,
     "metadata": {},
     "output_type": "execute_result"
    }
   ],
   "source": [
    "test_N = 3000\n",
    "mat = create_lamp_grid(test_N, 3)\n",
    "mat.shape"
   ]
  },
  {
   "cell_type": "code",
   "execution_count": 6,
   "metadata": {},
   "outputs": [
    {
     "name": "stdout",
     "output_type": "stream",
     "text": [
      "Enlightened area: 0.9872208888888889\n",
      "Overlap area: 0.34611244444444433\n"
     ]
    }
   ],
   "source": [
    "lamps = [(0.25, 0.25), (0.75, 0.75), (0.25, 0.75), (0.75, 0.25)]\n",
    "enlightened_area, overlap_area = calculate_areas(lamps, test_N, 3, mat)\n",
    "print(\"Enlightened area:\", enlightened_area)\n",
    "print(\"Overlap area:\", overlap_area)"
   ]
  },
  {
   "cell_type": "code",
   "execution_count": 9,
   "metadata": {},
   "outputs": [],
   "source": [
    "# The Evaluator\n",
    "def evaluator_lamp(candidates, args):\n",
    "    fitness = []\n",
    "    problem_size = args.get('problem_size', 4)\n",
    "    grid_size = args.get('grid_size', 1000)\n",
    "    weight_overlap = args.get('weight_overlap', 1)\n",
    "    lamp_grid = args.get('lamp_grid')\n",
    "    \n",
    "    for candidate in candidates:\n",
    "        enlightened_area, overlap_area = calculate_areas(candidate, grid_size, problem_size, lamp_grid)\n",
    "        fitness.append((enlightened_area - weight_overlap * overlap_area))\n",
    "    return fitness"
   ]
  },
  {
   "cell_type": "code",
   "execution_count": 45,
   "metadata": {},
   "outputs": [],
   "source": [
    "# The Generator\n",
    "def generator_lamp(random, args):\n",
    "    problem_size = args.get('problem_size')\n",
    "    number_lamps = random.randint(problem_size, problem_size*3)\n",
    "    return [(random.uniform(0, 1), random.uniform(0, 1)) for _ in range(number_lamps)] "
   ]
  },
  {
   "cell_type": "code",
   "execution_count": 11,
   "metadata": {},
   "outputs": [],
   "source": [
    "# The Bounder\n",
    "def bound_lamp(candidate, args):\n",
    "    for i, c in enumerate(candidate):\n",
    "        x = max(min(c[0], 1), 0)\n",
    "        y = max(min(c[1], 1), 0)\n",
    "        candidate[i] = (x, y)\n",
    "    return candidate\n",
    "bound_lamp.lower_bound = itertools.repeat(0)\n",
    "bound_lamp.upper_bound = itertools.repeat(1)"
   ]
  },
  {
   "cell_type": "code",
   "execution_count": 12,
   "metadata": {},
   "outputs": [],
   "source": [
    "# The Observer\n",
    "def observer_lamp(population, num_generations, num_evaluations, args):\n",
    "    avg_len = np.mean([len(c.candidate) for c in population])\n",
    "    best = max(population)\n",
    "    print('{0:6} -- {1} : {2}'.format(num_generations, best.fitness, avg_len))"
   ]
  },
  {
   "cell_type": "code",
   "execution_count": 39,
   "metadata": {},
   "outputs": [],
   "source": [
    "# Custom mutation operator\n",
    "def mutate_lamp(random, candidates, args):\n",
    "    mut_rate = args.setdefault('mutation_rate', 0.1)\n",
    "    bounder = args['_ec'].bounder\n",
    "    for i, cs in enumerate(candidates):\n",
    "        for j, (c, lo, hi) in enumerate(zip(cs, bounder.lower_bound, bounder.upper_bound)):\n",
    "            if random.random() < mut_rate:\n",
    "                x = c[0] + random.gauss(0, 0.1) * (hi - lo)\n",
    "                y = c[1] + random.gauss(0, 0.1) * (hi - lo)\n",
    "                candidates[i][j] = (x, y)\n",
    "        candidates[i] = bounder(candidates[i], args)\n",
    "    return candidates"
   ]
  },
  {
   "cell_type": "code",
   "execution_count": 46,
   "metadata": {},
   "outputs": [],
   "source": [
    "rand = random.Random()\n",
    "rand.seed(int(time()))\n",
    "my_ec = inspyred.ec.EvolutionaryComputation(rand)\n",
    "my_ec.selector = inspyred.ec.selectors.tournament_selection\n",
    "my_ec.variator = [inspyred.ec.variators.uniform_crossover, \n",
    "                  mutate_lamp]\n",
    "my_ec.replacer = inspyred.ec.replacers.plus_replacement\n",
    "my_ec.observer = observer_lamp\n",
    "my_ec.terminator = [inspyred.ec.terminators.evaluation_termination\n",
    "                    ,inspyred.ec.terminators.average_fitness_termination]"
   ]
  },
  {
   "cell_type": "code",
   "execution_count": 56,
   "metadata": {},
   "outputs": [],
   "source": [
    "problem_size = 5\n",
    "grid_size = 1500\n",
    "lamp_grid = create_lamp_grid(grid_size, problem_size)"
   ]
  },
  {
   "cell_type": "code",
   "execution_count": 57,
   "metadata": {},
   "outputs": [
    {
     "name": "stdout",
     "output_type": "stream",
     "text": [
      "     0 -- 0.4078302222222223 : 9.18\n",
      "     1 -- 0.4352391111111109 : 7.34\n",
      "     2 -- 0.4352391111111109 : 6.06\n",
      "     3 -- 0.6229377777777778 : 5.68\n",
      "     4 -- 0.42759199999999975 : 5.66\n",
      "     5 -- 0.42759199999999975 : 5.66\n",
      "     6 -- 0.455478222222222 : 5.66\n",
      "     7 -- 0.455478222222222 : 5.7\n",
      "     8 -- 0.46014577777777776 : 5.78\n",
      "     9 -- 0.5085662222222223 : 5.84\n",
      "    10 -- 0.5085662222222223 : 5.84\n",
      "    11 -- 0.5085662222222223 : 5.8\n",
      "    12 -- 0.5085662222222223 : 5.8\n",
      "    13 -- 0.5085662222222223 : 5.64\n",
      "    14 -- 0.5368942222222222 : 5.5\n",
      "    15 -- 0.5359875555555556 : 5.62\n",
      "    16 -- 0.5054995555555555 : 5.6\n",
      "    17 -- 0.5356613333333331 : 5.64\n",
      "    18 -- 0.5356613333333331 : 5.68\n",
      "    19 -- 0.5448346666666666 : 5.48\n",
      "    20 -- 0.5448346666666666 : 5.4\n",
      "    21 -- 0.5504311111111111 : 5.48\n",
      "    22 -- 0.5671919999999999 : 5.32\n",
      "    23 -- 0.5575902222222222 : 5.28\n",
      "    24 -- 0.5515297777777777 : 5.16\n",
      "    25 -- 0.5878666666666668 : 5.1\n",
      "    26 -- 0.5878666666666668 : 5.04\n",
      "    27 -- 0.5878666666666668 : 5.06\n",
      "    28 -- 0.5882746666666667 : 5.0\n",
      "    29 -- 0.5878666666666668 : 5.0\n",
      "    30 -- 0.6248693333333333 : 5.0\n",
      "    31 -- 0.6254631111111111 : 5.0\n",
      "    32 -- 0.6254631111111111 : 5.0\n",
      "    33 -- 0.6442888888888889 : 5.0\n",
      "    34 -- 0.6254631111111111 : 5.0\n",
      "    35 -- 0.6254631111111111 : 5.0\n",
      "    36 -- 0.600536 : 5.0\n",
      "    37 -- 0.6209786666666666 : 5.0\n",
      "    38 -- 0.6209786666666666 : 5.0\n",
      "    39 -- 0.6209786666666666 : 5.0\n",
      "    40 -- 0.6209786666666666 : 5.0\n",
      "    41 -- 0.6209786666666666 : 5.0\n",
      "    42 -- 0.62768 : 5.0\n",
      "    43 -- 0.62768 : 5.0\n",
      "    44 -- 0.6209786666666666 : 5.0\n",
      "    45 -- 0.6209786666666666 : 5.0\n",
      "    46 -- 0.6209786666666666 : 5.0\n",
      "    47 -- 0.6209786666666666 : 5.0\n",
      "    48 -- 0.6145591111111111 : 5.0\n",
      "    49 -- 0.6435919999999999 : 5.0\n",
      "    50 -- 0.6435919999999999 : 5.0\n",
      "    51 -- 0.6435919999999999 : 5.0\n",
      "    52 -- 0.6435919999999999 : 5.0\n",
      "    53 -- 0.6435919999999999 : 5.0\n",
      "    54 -- 0.6435919999999999 : 5.0\n",
      "    55 -- 0.6507377777777779 : 5.0\n",
      "    56 -- 0.6507377777777779 : 5.0\n",
      "    57 -- 0.6507377777777779 : 5.0\n",
      "    58 -- 0.6507377777777779 : 5.0\n",
      "Terminated due to evaluation_termination.\n",
      "[(0.9307740680115917, 0.2564142261129877), (0.8147629656128557, 0.7568969488539669), (0.6170783008441165, 0.42669461419733423), (0.16213740671456547, 0.26664786399503754), (0.25080631545999876, 0.7715928250768078)] : 0.6507377777777779\n"
     ]
    }
   ],
   "source": [
    "final_pop = my_ec.evolve(generator = generator_lamp,\n",
    "                         evaluator = evaluator_lamp,\n",
    "                         pop_size = 100,\n",
    "                         bounder = bound_lamp,\n",
    "                         max_evaluations = 3000,\n",
    "                         num_selected = 50,\n",
    "                         crossover_rate = 0.2,\n",
    "                         mutation_rate = 0.8,\n",
    "                         # Custom args\n",
    "                         problem_size = problem_size,\n",
    "                         grid_size = grid_size,\n",
    "                         lamp_grid = lamp_grid,\n",
    "                         weight_overlap = 1)\n",
    "print('Terminated due to {0}.'.format(my_ec.termination_cause))\n",
    "final_pop.sort(reverse=True)\n",
    "print(final_pop[0])"
   ]
  },
  {
   "cell_type": "code",
   "execution_count": null,
   "metadata": {},
   "outputs": [],
   "source": [
    "[(0.6286439871365337, 0.04645320692731825), (0.1717140155535166, 0.37807045018777347), (0.6012520883501508, 0.7722050951785315)] : 0.47773599999999994"
   ]
  },
  {
   "cell_type": "code",
   "execution_count": 60,
   "metadata": {},
   "outputs": [
    {
     "name": "stdout",
     "output_type": "stream",
     "text": [
      "0\n",
      "1\n"
     ]
    }
   ],
   "source": [
    "mom = [1,2,3,4]\n",
    "dad = [5,6]\n",
    "for i, (m, d) in enumerate(zip(mom, dad)):\n",
    "    print(i)"
   ]
  },
  {
   "cell_type": "code",
   "execution_count": 15,
   "metadata": {},
   "outputs": [],
   "source": [
    "import matplotlib.pyplot as plt\n",
    "import matplotlib.patches as patches\n",
    "\n",
    "def plot_lamps(candidate, problem_size):\n",
    "    fig, ax = plt.subplots(figsize=(6, 6))\n",
    "    # ax.axis('off')  # turn off the axis\n",
    "    ax.set_xlim([0, 1])\n",
    "    ax.set_ylim([0, 1])\n",
    "\n",
    "    # plot the best candidate\n",
    "    radius = np.sqrt(1 / problem_size / np.pi)\n",
    "    for (x, y) in candidate: \n",
    "        circle = patches.Circle((x, y), radius, edgecolor='b', facecolor='none')\n",
    "        ax.add_patch(circle)\n",
    "        ax.plot(x, y, 'ro')\n",
    "\n",
    "    plt.savefig('lamp_positions.png')"
   ]
  },
  {
   "cell_type": "code",
   "execution_count": 31,
   "metadata": {},
   "outputs": [
    {
     "name": "stdout",
     "output_type": "stream",
     "text": [
      "{4: 100}\n"
     ]
    }
   ],
   "source": [
    "# Calculate the number of length of final population\n",
    "D = {}\n",
    "for f in final_pop:\n",
    "    if len(f.candidate) in D:\n",
    "        D[len(f.candidate)] += 1\n",
    "    else:\n",
    "        D[len(f.candidate)] = 1\n",
    "print(D)"
   ]
  },
  {
   "cell_type": "code",
   "execution_count": 58,
   "metadata": {},
   "outputs": [
    {
     "name": "stdout",
     "output_type": "stream",
     "text": [
      "Enlightened area: 0.8253688888888889\n",
      "Overlap area: 0.17463111111111107\n"
     ]
    }
   ],
   "source": [
    "enlightened_area, overlap_area = calculate_areas(final_pop[0].candidate, grid_size, problem_size, lamp_grid)\n",
    "print(\"Enlightened area:\", enlightened_area)\n",
    "print(\"Overlap area:\", overlap_area)"
   ]
  },
  {
   "cell_type": "code",
   "execution_count": 59,
   "metadata": {},
   "outputs": [
    {
     "data": {
      "image/png": "[encoded data removed]",
      "text/plain": [
       "<Figure size 432x432 with 1 Axes>"
      ]
     },
     "metadata": {
      "needs_background": "light"
     },
     "output_type": "display_data"
    }
   ],
   "source": [
    "plot_lamps(final_pop[0].candidate, problem_size)"
   ]
  },
  {
   "cell_type": "code",
   "execution_count": null,
   "metadata": {},
   "outputs": [],
   "source": []
  }
 ],
 "metadata": {
  "kernelspec": {
   "display_name": "Python 3",
   "language": "python",
   "name": "python3"
  },
  "language_info": {
   "codemirror_mode": {
    "name": "ipython",
    "version": 3
   },
   "file_extension": ".py",
   "mimetype": "text/x-python",
   "name": "python",
   "nbconvert_exporter": "python",
   "pygments_lexer": "ipython3",
   "version": "3.9.5"
  },
  "orig_nbformat": 4
 },
 "nbformat": 4,
 "nbformat_minor": 2
}
