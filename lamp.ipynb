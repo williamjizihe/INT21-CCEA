{
 "cells": [
  {
   "cell_type": "code",
   "execution_count": 22,
   "metadata": {},
   "outputs": [],
   "source": [
    "import random\n",
    "import numpy as np\n",
    "from time import time\n",
    "import inspyred\n",
    "import itertools\n",
    "import matplotlib.pyplot as plt\n",
    "import matplotlib.patches as patches\n",
    "import copy"
   ]
  },
  {
   "cell_type": "code",
   "execution_count": 3,
   "metadata": {},
   "outputs": [],
   "source": [
    "def create_lamp_grid(grid_size, problem_size):\n",
    "    da = 1/ grid_size\n",
    "    r2 = 1 / problem_size / np.pi\n",
    "    r = np.sqrt(r2)\n",
    "    N = int(r * grid_size)\n",
    "    lamp_grid = np.zeros((2*N+1, 2*N+1))\n",
    "    for i in range(2*N+1):\n",
    "        for j in range(2*N+1):\n",
    "            x = (i-N) * da\n",
    "            y = (j-N) * da\n",
    "            if x**2 + y**2 <= r2:\n",
    "                lamp_grid[i,j] = 1\n",
    "    return lamp_grid"
   ]
  },
  {
   "cell_type": "code",
   "execution_count": 4,
   "metadata": {},
   "outputs": [],
   "source": [
    "# Function to calculate the enlightened and overlap area\n",
    "def calculate_areas(lamps, grid_size, problem_size, lamp_grid):\n",
    "    r2 = 1 / problem_size / np.pi\n",
    "    r = np.sqrt(r2)\n",
    "    rN = lamp_grid.shape[0]\n",
    "    extra = rN // 2\n",
    "    # Initialize the grid\n",
    "    tot_grid = np.zeros((grid_size + 2 * extra, grid_size + 2 * extra))\n",
    "    \n",
    "    # Illuminate the grid with each lamp\n",
    "    for x, y in lamps:\n",
    "        # Calculate the index of the lamp in the grid\n",
    "        x_min = max(0, int(x * grid_size)-1)\n",
    "        y_min = max(0, int(y * grid_size)-1)\n",
    "        tot_grid[x_min:x_min+rN, y_min:y_min+rN] += lamp_grid\n",
    "\n",
    "    # Remove the extra rows and columns\n",
    "    tot_grid = tot_grid[extra:-extra, extra:-extra]\n",
    "    # Count the enlightened and overlap area\n",
    "    enlightened_area = np.sum(tot_grid > 0) / grid_size**2\n",
    "    overlap_area = 1 / problem_size * len(lamps) - enlightened_area\n",
    "\n",
    "    return enlightened_area, overlap_area"
   ]
  },
  {
   "cell_type": "code",
   "execution_count": 5,
   "metadata": {},
   "outputs": [
    {
     "data": {
      "text/plain": [
       "(1955, 1955)"
      ]
     },
     "execution_count": 5,
     "metadata": {},
     "output_type": "execute_result"
    }
   ],
   "source": [
    "test_N = 3000\n",
    "mat = create_lamp_grid(test_N, 3)\n",
    "mat.shape"
   ]
  },
  {
   "cell_type": "code",
   "execution_count": 6,
   "metadata": {},
   "outputs": [
    {
     "name": "stdout",
     "output_type": "stream",
     "text": [
      "Enlightened area: 0.9872208888888889\n",
      "Overlap area: 0.34611244444444433\n"
     ]
    }
   ],
   "source": [
    "lamps = [(0.25, 0.25), (0.75, 0.75), (0.25, 0.75), (0.75, 0.25)]\n",
    "enlightened_area, overlap_area = calculate_areas(lamps, test_N, 3, mat)\n",
    "print(\"Enlightened area:\", enlightened_area)\n",
    "print(\"Overlap area:\", overlap_area)"
   ]
  },
  {
   "cell_type": "code",
   "execution_count": 7,
   "metadata": {},
   "outputs": [],
   "source": [
    "# The Evaluator\n",
    "def evaluator_lamp(candidates, args):\n",
    "    fitness = []\n",
    "    problem_size = args.get('problem_size', 4)\n",
    "    grid_size = args.get('grid_size', 1000)\n",
    "    weight_overlap = args.get('weight_overlap', 1)\n",
    "    lamp_grid = args.get('lamp_grid')\n",
    "    \n",
    "    for candidate in candidates:\n",
    "        enlightened_area, overlap_area = calculate_areas(candidate, grid_size, problem_size, lamp_grid)\n",
    "        fitness.append((enlightened_area - weight_overlap * overlap_area))\n",
    "    return fitness"
   ]
  },
  {
   "cell_type": "code",
   "execution_count": 8,
   "metadata": {},
   "outputs": [],
   "source": [
    "# The Generator\n",
    "def generator_lamp(random, args):\n",
    "    problem_size = args.get('problem_size')\n",
    "    number_lamps = random.randint(problem_size, problem_size*3)\n",
    "    return [(random.uniform(0, 1), random.uniform(0, 1)) for _ in range(number_lamps)] "
   ]
  },
  {
   "cell_type": "code",
   "execution_count": 9,
   "metadata": {},
   "outputs": [],
   "source": [
    "# The Bounder\n",
    "def bound_lamp(candidate, args):\n",
    "    for i, c in enumerate(candidate):\n",
    "        x = max(min(c[0], 1), 0)\n",
    "        y = max(min(c[1], 1), 0)\n",
    "        candidate[i] = (x, y)\n",
    "    return candidate\n",
    "bound_lamp.lower_bound = itertools.repeat(0)\n",
    "bound_lamp.upper_bound = itertools.repeat(1)"
   ]
  },
  {
   "cell_type": "code",
   "execution_count": 10,
   "metadata": {},
   "outputs": [],
   "source": [
    "# The Observer\n",
    "def observer_lamp(population, num_generations, num_evaluations, args):\n",
    "    avg_len = np.mean([len(c.candidate) for c in population])\n",
    "    best = max(population)\n",
    "    print('{0:6} -- {1} : {2}'.format(num_generations, best.fitness, avg_len))"
   ]
  },
  {
   "cell_type": "code",
   "execution_count": 36,
   "metadata": {},
   "outputs": [],
   "source": [
    "# Custom mutation operator\n",
    "def mutate_lamp(random, candidates, args):\n",
    "    mut_rate = args.setdefault('mutation_rate', 0.1)\n",
    "    problem_size = args.get('problem_size')\n",
    "    bounder = args['_ec'].bounder\n",
    "    for i, cs in enumerate(candidates):\n",
    "        for j, (c, lo, hi) in enumerate(zip(cs, bounder.lower_bound, bounder.upper_bound)):\n",
    "            if random.random() < mut_rate:\n",
    "                xi = random.random()\n",
    "                if xi < 0.5:\n",
    "                    # Change the position of the lamp\n",
    "                    x = c[0] + random.gauss(0, 0.1) * (hi - lo)\n",
    "                    y = c[1] + random.gauss(0, 0.1) * (hi - lo)\n",
    "                    candidates[i][j] = (x, y)\n",
    "                elif xi < 0.75 and len(cs) < 3 * problem_size:\n",
    "                    # Add a new lamp\n",
    "                    cs.append((random.uniform(0, 1), random.uniform(0, 1)))\n",
    "                elif len(cs) > problem_size:\n",
    "                    # Remove a lamp\n",
    "                    index = random.randint(0, len(cs)-1)\n",
    "                    del cs[index]\n",
    "        candidates[i] = bounder(candidates[i], args)\n",
    "    return candidates"
   ]
  },
  {
   "cell_type": "code",
   "execution_count": 29,
   "metadata": {},
   "outputs": [],
   "source": [
    "# Custom crossover operator\n",
    "def crossover_lamp(random, mom, dad, args):\n",
    "    crossover_rate = args.setdefault('crossover_rate', 1.0)\n",
    "    children = []\n",
    "    \n",
    "    if random.random() < crossover_rate:\n",
    "        bro = copy.copy(dad)\n",
    "        sis = copy.copy(mom)\n",
    "        length = min(len(mom), len(dad))\n",
    "        index = random.randint(0, length-1)\n",
    "        child1 = bro[:index] + sis[index:]\n",
    "        child2 = sis[:index] + bro[index:]\n",
    "        children.append(child1)\n",
    "        children.append(child2)\n",
    "    else:\n",
    "        children.append(mom)\n",
    "        children.append(dad)\n",
    "    return children"
   ]
  },
  {
   "cell_type": "code",
   "execution_count": 42,
   "metadata": {},
   "outputs": [],
   "source": [
    "def my_crossover(random, candidates, args):\n",
    "    if len(candidates) % 2 == 1:\n",
    "        candidates = candidates[:-1]\n",
    "    moms = candidates[::2]\n",
    "    dads = candidates[1::2]\n",
    "    children = []\n",
    "    for i, (mom, dad) in enumerate(zip(moms, dads)):\n",
    "        crossover_lamp.index = i\n",
    "        offspring = crossover_lamp(random, mom, dad, args)\n",
    "        for o in offspring:\n",
    "            children.append(o)\n",
    "    return children"
   ]
  },
  {
   "cell_type": "code",
   "execution_count": 94,
   "metadata": {},
   "outputs": [],
   "source": [
    "rand = random.Random()\n",
    "rand.seed(39)\n",
    "my_ec = inspyred.ec.EvolutionaryComputation(rand)\n",
    "#my_ec.selector = inspyred.ec.selectors.tournament_selection\n",
    "my_ec.variator = [my_crossover, \n",
    "                  mutate_lamp]\n",
    "my_ec.replacer = inspyred.ec.replacers.plus_replacement\n",
    "my_ec.observer = observer_lamp\n",
    "my_ec.terminator = [inspyred.ec.terminators.evaluation_termination\n",
    "                    ,inspyred.ec.terminators.average_fitness_termination]"
   ]
  },
  {
   "cell_type": "code",
   "execution_count": 95,
   "metadata": {},
   "outputs": [],
   "source": [
    "problem_size = 5\n",
    "grid_size = 1500\n",
    "lamp_grid = create_lamp_grid(grid_size, problem_size)"
   ]
  },
  {
   "cell_type": "code",
   "execution_count": 107,
   "metadata": {},
   "outputs": [
    {
     "name": "stdout",
     "output_type": "stream",
     "text": [
      "     0 -- 0.3660835555555553 : 9.41\n",
      "     1 -- 0.47890311111111106 : 6.83\n",
      "     2 -- 0.5713306666666667 : 6.05\n",
      "     3 -- 0.5713306666666667 : 5.58\n",
      "     4 -- 0.5713306666666667 : 5.48\n",
      "     5 -- 0.5713306666666667 : 5.38\n",
      "     6 -- 0.5713306666666667 : 5.32\n",
      "     7 -- 0.5713306666666667 : 5.3\n",
      "     8 -- 0.5713306666666667 : 5.27\n",
      "     9 -- 0.5713306666666667 : 5.23\n",
      "    10 -- 0.5713306666666667 : 5.18\n",
      "    11 -- 0.5713306666666667 : 5.16\n",
      "    12 -- 0.5713306666666667 : 5.12\n",
      "    13 -- 0.6023964444444445 : 5.11\n",
      "    14 -- 0.6023964444444445 : 5.12\n",
      "    15 -- 0.6023964444444445 : 5.11\n",
      "    16 -- 0.6023964444444445 : 5.08\n",
      "    17 -- 0.6085013333333333 : 5.09\n",
      "    18 -- 0.6085013333333333 : 5.09\n",
      "    19 -- 0.6085013333333333 : 5.1\n",
      "    20 -- 0.6085013333333333 : 5.09\n",
      "    21 -- 0.616111111111111 : 5.07\n",
      "    22 -- 0.6465564444444445 : 5.06\n",
      "    23 -- 0.6465564444444445 : 5.05\n",
      "    24 -- 0.6465564444444445 : 5.05\n",
      "    25 -- 0.6465564444444445 : 5.05\n",
      "    26 -- 0.6465564444444445 : 5.04\n",
      "    27 -- 0.6465564444444445 : 5.04\n",
      "    28 -- 0.6465564444444445 : 5.04\n",
      "    29 -- 0.6465564444444445 : 5.03\n",
      "    30 -- 0.6465564444444445 : 5.03\n",
      "    31 -- 0.6473333333333333 : 5.02\n",
      "    32 -- 0.6473333333333333 : 5.02\n",
      "    33 -- 0.6473333333333333 : 5.02\n",
      "    34 -- 0.6473333333333333 : 5.02\n",
      "    35 -- 0.6666782222222223 : 5.02\n",
      "    36 -- 0.6710417777777777 : 5.02\n",
      "    37 -- 0.6710417777777777 : 5.02\n",
      "    38 -- 0.6710417777777777 : 5.01\n",
      "    39 -- 0.7008124444444443 : 5.01\n",
      "    40 -- 0.711336 : 5.01\n",
      "    41 -- 0.711336 : 5.01\n",
      "    42 -- 0.711336 : 5.0\n",
      "    43 -- 0.711336 : 5.0\n",
      "    44 -- 0.711336 : 5.0\n",
      "    45 -- 0.711336 : 5.0\n",
      "    46 -- 0.711336 : 5.0\n",
      "    47 -- 0.711336 : 5.0\n",
      "    48 -- 0.711336 : 5.0\n",
      "    49 -- 0.711336 : 5.0\n",
      "Terminated due to evaluation_termination.\n",
      "[(0.8420099483279045, 0.7095851404346994), (0.7382470092213551, 0.247081593106651), (0.2506885383485698, 0.22832301634255894), (0.5432853348252528, 0.7543701167265745), (0.172333293043311, 0.7168509202719802)] : 0.711336\n"
     ]
    }
   ],
   "source": [
    "final_pop = my_ec.evolve(generator = generator_lamp,\n",
    "                         evaluator = evaluator_lamp,\n",
    "                         pop_size = 100,\n",
    "                         bounder = bound_lamp,\n",
    "                         max_evaluations = 5000,\n",
    "                         num_selected = 50,\n",
    "                         crossover_rate = 1,\n",
    "                         mutation_rate = 0.5,\n",
    "                         # Custom args\n",
    "                         problem_size = problem_size,\n",
    "                         grid_size = grid_size,\n",
    "                         lamp_grid = lamp_grid,\n",
    "                         weight_overlap = 1)\n",
    "print('Terminated due to {0}.'.format(my_ec.termination_cause))\n",
    "final_pop.sort(reverse=True)\n",
    "print(final_pop[0])"
   ]
  },
  {
   "cell_type": "code",
   "execution_count": 116,
   "metadata": {},
   "outputs": [],
   "source": [
    "def plot_lamps(candidate, problem_size):\n",
    "    fig, ax = plt.subplots(figsize=(6, 6))\n",
    "    # ax.axis('off')  # turn off the axis\n",
    "    ax.set_xlim([0, 1])\n",
    "    ax.set_ylim([0, 1])\n",
    "\n",
    "    # plot the best candidate\n",
    "    radius = np.sqrt(1 / problem_size / np.pi)\n",
    "    for (x, y) in candidate: \n",
    "        circle = patches.Circle((x, y), radius, edgecolor='b', facecolor='none')\n",
    "        ax.add_patch(circle)\n",
    "        ax.plot(x, y, 'ro')\n",
    "\n",
    "    plt.savefig('lamp_positions.png')"
   ]
  },
  {
   "cell_type": "code",
   "execution_count": 117,
   "metadata": {},
   "outputs": [
    {
     "name": "stdout",
     "output_type": "stream",
     "text": [
      "{5: 100}\n"
     ]
    }
   ],
   "source": [
    "# Calculate the number of length of final population\n",
    "D = {}\n",
    "for f in final_pop:\n",
    "    if len(f.candidate) in D:\n",
    "        D[len(f.candidate)] += 1\n",
    "    else:\n",
    "        D[len(f.candidate)] = 1\n",
    "print(D)"
   ]
  },
  {
   "cell_type": "code",
   "execution_count": 118,
   "metadata": {},
   "outputs": [
    {
     "name": "stdout",
     "output_type": "stream",
     "text": [
      "Enlightened area: 0.855668\n",
      "Overlap area: 0.14433200000000002\n"
     ]
    }
   ],
   "source": [
    "enlightened_area, overlap_area = calculate_areas(final_pop[0].candidate, grid_size, problem_size, lamp_grid)\n",
    "print(\"Enlightened area:\", enlightened_area)\n",
    "print(\"Overlap area:\", overlap_area)"
   ]
  },
  {
   "cell_type": "code",
   "execution_count": 119,
   "metadata": {},
   "outputs": [
    {
     "data": {
      "image/png": "[encoded data removed]",
      "text/plain": [
       "<Figure size 432x432 with 1 Axes>"
      ]
     },
     "metadata": {
      "needs_background": "light"
     },
     "output_type": "display_data"
    }
   ],
   "source": [
    "plot_lamps(final_pop[0].candidate, problem_size)"
   ]
  },
  {
   "attachments": {},
   "cell_type": "markdown",
   "metadata": {},
   "source": [
    "## Multi-Objective"
   ]
  },
  {
   "cell_type": "code",
   "execution_count": 120,
   "metadata": {},
   "outputs": [],
   "source": [
    "# The Evaluator\n",
    "def evaluator_lamp_multi_objective(candidates, args):\n",
    "    fitness = []\n",
    "    problem_size = args.get('problem_size', 4)\n",
    "    grid_size = args.get('grid_size', 1000)\n",
    "    lamp_grid = args.get('lamp_grid')\n",
    "    \n",
    "    for candidate in candidates:\n",
    "        enlightened_area, _ = calculate_areas(candidate, grid_size, problem_size, lamp_grid)\n",
    "        fitness.append(inspyred.ec.emo.Pareto( [-len(candidate), enlightened_area] ))\n",
    "    return fitness"
   ]
  },
  {
   "cell_type": "code",
   "execution_count": 121,
   "metadata": {},
   "outputs": [],
   "source": [
    "rand = random.Random()\n",
    "rand.seed(39)\n",
    "nsga2 = inspyred.ec.emo.NSGA2(rand)\n",
    "nsga2.terminator = inspyred.ec.terminators.evaluation_termination\n",
    "nsga2.variator = [my_crossover, \n",
    "                  mutate_lamp]\n",
    "nsga2.observer = observer_lamp"
   ]
  },
  {
   "cell_type": "code",
   "execution_count": 122,
   "metadata": {},
   "outputs": [],
   "source": [
    "problem_size = 5\n",
    "grid_size = 1500\n",
    "lamp_grid = create_lamp_grid(grid_size, problem_size)"
   ]
  },
  {
   "cell_type": "code",
   "execution_count": 123,
   "metadata": {},
   "outputs": [
    {
     "name": "stdout",
     "output_type": "stream",
     "text": [
      "     0 -- [-6, 0.7238364444444444] : 8.92\n",
      "     1 -- [-11, 0.9480417777777778] : 9.28\n",
      "     2 -- [-11, 0.9480417777777778] : 9.41\n",
      "     3 -- [-11, 0.9480417777777778] : 9.63\n",
      "     4 -- [-11, 0.9480417777777778] : 9.67\n",
      "     5 -- [-11, 0.9480417777777778] : 9.66\n",
      "     6 -- [-11, 0.9480417777777778] : 9.67\n",
      "     7 -- [-7, 0.8904146666666667] : 9.69\n",
      "     8 -- [-7, 0.8904146666666667] : 9.69\n",
      "     9 -- [-7, 0.8904146666666667] : 9.68\n",
      "    10 -- [-7, 0.8904146666666667] : 9.55\n",
      "    11 -- [-7, 0.8904146666666667] : 9.65\n",
      "    12 -- [-7, 0.8904146666666667] : 9.69\n",
      "    13 -- [-7, 0.8904146666666667] : 9.73\n",
      "    14 -- [-7, 0.8904146666666667] : 9.69\n",
      "    15 -- [-6, 0.8646773333333333] : 9.73\n",
      "    16 -- [-6, 0.8646773333333333] : 9.69\n",
      "    17 -- [-6, 0.8646773333333333] : 9.72\n",
      "    18 -- [-6, 0.8646773333333333] : 9.72\n",
      "    19 -- [-6, 0.8646773333333333] : 9.72\n",
      "    20 -- [-6, 0.8646773333333333] : 9.74\n",
      "    21 -- [-6, 0.8646773333333333] : 9.75\n",
      "    22 -- [-6, 0.8646773333333333] : 9.76\n",
      "    23 -- [-6, 0.8646773333333333] : 9.79\n",
      "    24 -- [-6, 0.8646773333333333] : 9.84\n",
      "    25 -- [-6, 0.8646773333333333] : 9.87\n",
      "    26 -- [-6, 0.8646773333333333] : 9.87\n",
      "    27 -- [-6, 0.8646773333333333] : 9.82\n",
      "    28 -- [-6, 0.8646773333333333] : 9.88\n",
      "    29 -- [-6, 0.8646773333333333] : 9.81\n",
      "    30 -- [-6, 0.8646773333333333] : 9.8\n",
      "    31 -- [-8, 0.9584368888888889] : 9.74\n",
      "    32 -- [-8, 0.9584368888888889] : 9.73\n",
      "    33 -- [-8, 0.9584368888888889] : 9.77\n",
      "    34 -- [-8, 0.9584368888888889] : 9.79\n",
      "    35 -- [-8, 0.9584368888888889] : 9.9\n",
      "    36 -- [-8, 0.9584368888888889] : 9.85\n",
      "    37 -- [-8, 0.9584368888888889] : 9.88\n",
      "    38 -- [-8, 0.9584368888888889] : 9.93\n",
      "    39 -- [-8, 0.9584368888888889] : 9.9\n",
      "    40 -- [-8, 0.9584368888888889] : 9.93\n",
      "    41 -- [-8, 0.9584368888888889] : 9.89\n",
      "    42 -- [-8, 0.9584368888888889] : 9.96\n",
      "    43 -- [-8, 0.9584368888888889] : 9.99\n",
      "    44 -- [-8, 0.9584368888888889] : 9.9\n",
      "    45 -- [-8, 0.9584368888888889] : 9.91\n",
      "    46 -- [-8, 0.9584368888888889] : 9.83\n",
      "    47 -- [-8, 0.9584368888888889] : 9.79\n",
      "    48 -- [-8, 0.9584368888888889] : 9.84\n",
      "    49 -- [-8, 0.9584368888888889] : 9.77\n",
      "Terminated due to evaluation_termination.\n"
     ]
    }
   ],
   "source": [
    "final_pareto_front = nsga2.evolve(generator = generator_lamp,\n",
    "                                  evaluator = evaluator_lamp_multi_objective,\n",
    "                                  pop_size = 100,\n",
    "                                  bounder = bound_lamp,\n",
    "                                  max_evaluations = 5000,\n",
    "                                  num_selected = 100,\n",
    "                                  crossover_rate = 1,\n",
    "                                  mutation_rate = 0.8,\n",
    "                                  # Custom args\n",
    "                                  problem_size = problem_size,\n",
    "                                  grid_size = grid_size,\n",
    "                                  lamp_grid = lamp_grid)\n",
    "print('Terminated due to {0}.'.format(nsga2.termination_cause))"
   ]
  },
  {
   "cell_type": "code",
   "execution_count": 131,
   "metadata": {},
   "outputs": [
    {
     "data": {
      "text/plain": [
       "<matplotlib.legend.Legend at 0x1b9aa68b640>"
      ]
     },
     "execution_count": 131,
     "metadata": {},
     "output_type": "execute_result"
    },
    {
     "data": {
      "image/png": "[encoded data removed]",
      "text/plain": [
       "<Figure size 432x288 with 1 Axes>"
      ]
     },
     "metadata": {
      "needs_background": "light"
     },
     "output_type": "display_data"
    }
   ],
   "source": [
    "x_nsga2 = [ -individual.fitness[0] for individual in final_pareto_front ]\n",
    "y_nsga2 = [ individual.fitness[1] for individual in final_pareto_front ]\n",
    "plt.plot(x_nsga2, y_nsga2, 'bx', label=\"NSGA-II individuals\")\n",
    "plt.xlabel(\"Number of lamps\")\n",
    "plt.ylabel(\"Enlightened area\")\n",
    "plt.legend(loc=\"best\")"
   ]
  },
  {
   "cell_type": "code",
   "execution_count": 132,
   "metadata": {},
   "outputs": [
    {
     "data": {
      "text/plain": [
       "<matplotlib.legend.Legend at 0x1b9aa6c5ee0>"
      ]
     },
     "execution_count": 132,
     "metadata": {},
     "output_type": "execute_result"
    },
    {
     "data": {
      "image/png": "[encoded data removed]",
      "text/plain": [
       "<Figure size 432x288 with 1 Axes>"
      ]
     },
     "metadata": {
      "needs_background": "light"
     },
     "output_type": "display_data"
    }
   ],
   "source": [
    "# Select the best individual for each number of lamps\n",
    "D = {}\n",
    "for f in final_pareto_front:\n",
    "    N = len(f.candidate) \n",
    "    if N in D:\n",
    "        if D[N].fitness[1] < f.fitness[1]:\n",
    "            D[N] = f\n",
    "    else:\n",
    "        D[N] = f\n",
    "x_best = [ -individual.fitness[0] for individual in D.values() ]\n",
    "y_best = [ individual.fitness[1] for individual in D.values() ]\n",
    "plt.plot(x_best, y_best, 'bx', label=\"NSGA-II individuals\")\n",
    "plt.xlabel(\"Number of lamps\")\n",
    "plt.ylabel(\"Enlightened area\")\n",
    "plt.legend(loc=\"best\")"
   ]
  },
  {
   "attachments": {},
   "cell_type": "markdown",
   "metadata": {},
   "source": [
    "## Parisian Evolution"
   ]
  },
  {
   "attachments": {},
   "cell_type": "markdown",
   "metadata": {},
   "source": [
    "For the lamps problem, the PE has been implemented as follows. An individual represents a lamp, its genome is its $(x, y)$ position, plus a third element, $e$, that can assume values 0 or 1 (on/off switch). Lamps with $e=1$ are \"on\" (expressed) and contribute to the global solution, while lamps with $e=0$ do not."
   ]
  },
  {
   "cell_type": "code",
   "execution_count": 133,
   "metadata": {},
   "outputs": [],
   "source": [
    "# The PE generator\n",
    "def PE_generator(random, args):\n",
    "    return [random.uniform(0, 1), random.uniform(0, 1), random.randint(0, 1)]"
   ]
  },
  {
   "cell_type": "code",
   "execution_count": 134,
   "metadata": {},
   "outputs": [],
   "source": [
    "# The Bounder\n",
    "def PE_bound(candidate, args):\n",
    "    x = max(min(candidate[0], 1), 0)\n",
    "    y = max(min(candidate[1], 1), 0)\n",
    "    z = max(min(candidate[2], 1), 0)\n",
    "    z = round(z)\n",
    "    return [x, y, z]\n",
    "bound_lamp.lower_bound = itertools.repeat(0)\n",
    "bound_lamp.upper_bound = itertools.repeat(1)"
   ]
  },
  {
   "cell_type": "code",
   "execution_count": null,
   "metadata": {},
   "outputs": [],
   "source": [
    "# The Selector\n"
   ]
  }
 ],
 "metadata": {
  "kernelspec": {
   "display_name": "Python 3",
   "language": "python",
   "name": "python3"
  },
  "language_info": {
   "codemirror_mode": {
    "name": "ipython",
    "version": 3
   },
   "file_extension": ".py",
   "mimetype": "text/x-python",
   "name": "python",
   "nbconvert_exporter": "python",
   "pygments_lexer": "ipython3",
   "version": "3.9.5"
  },
  "orig_nbformat": 4
 },
 "nbformat": 4,
 "nbformat_minor": 2
}
